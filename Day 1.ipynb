{
 "cells": [
  {
   "cell_type": "code",
   "execution_count": 1,
   "id": "abec783a",
   "metadata": {},
   "outputs": [],
   "source": [
    "import numpy as np"
   ]
  },
  {
   "cell_type": "code",
   "execution_count": 21,
   "id": "99704c0e",
   "metadata": {},
   "outputs": [],
   "source": [
    "Input_file = open(\"Day 1 Input\")"
   ]
  },
  {
   "cell_type": "code",
   "execution_count": 22,
   "id": "88d159ea",
   "metadata": {},
   "outputs": [],
   "source": [
    "Input = []\n",
    "for line in Input_file:\n",
    "    Input.append(line.strip())"
   ]
  },
  {
   "cell_type": "code",
   "execution_count": 29,
   "id": "1007f717",
   "metadata": {},
   "outputs": [
    {
     "name": "stdout",
     "output_type": "stream",
     "text": [
      "Max Elf\n",
      "66616\n",
      "Middle Elf\n",
      "66306\n",
      "Lower Elf\n",
      "66250\n",
      "Top Three\n",
      "199172\n"
     ]
    }
   ],
   "source": [
    "all_elves = []\n",
    "x = 0\n",
    "for i in Input:\n",
    "    if i == '':\n",
    "        all_elves.append(x)\n",
    "        x = 0\n",
    "    else:\n",
    "        n = int(i)\n",
    "        x = x + n\n",
    "\n",
    "Max_elf = 0        \n",
    "for e in all_elves:\n",
    "    if e > Max_elf:\n",
    "        Max_elf = e\n",
    "\n",
    "print(\"Max Elf\")        \n",
    "print(Max_elf)\n",
    "\n",
    "Middle_elf = 0\n",
    "for e in all_elves:\n",
    "    if e > Middle_elf:\n",
    "        if e == 66616:\n",
    "            pog = e\n",
    "        else:\n",
    "            Middle_elf = e\n",
    "\n",
    "print(\"Middle Elf\")\n",
    "print(Middle_elf)\n",
    "\n",
    "Lower_elf = 0\n",
    "for e in all_elves:\n",
    "    if e > Lower_elf:\n",
    "        if e >= 66306:\n",
    "            pog = e\n",
    "        else:\n",
    "            Lower_elf = e\n",
    "\n",
    "print(\"Lower Elf\")\n",
    "print(Lower_elf)\n",
    "\n",
    "Top_Three = Max_elf + Middle_elf + Lower_elf\n",
    "\n",
    "print(\"Top Three\")\n",
    "print(Top_Three)"
   ]
  }
 ],
 "metadata": {
  "kernelspec": {
   "display_name": "Python 3 (ipykernel)",
   "language": "python",
   "name": "python3"
  },
  "language_info": {
   "codemirror_mode": {
    "name": "ipython",
    "version": 3
   },
   "file_extension": ".py",
   "mimetype": "text/x-python",
   "name": "python",
   "nbconvert_exporter": "python",
   "pygments_lexer": "ipython3",
   "version": "3.10.6"
  }
 },
 "nbformat": 4,
 "nbformat_minor": 5
}
