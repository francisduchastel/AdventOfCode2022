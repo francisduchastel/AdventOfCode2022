{
 "cells": [
  {
   "cell_type": "code",
   "execution_count": 1,
   "id": "b5d94d8c",
   "metadata": {},
   "outputs": [],
   "source": [
    "import numpy as np"
   ]
  },
  {
   "cell_type": "code",
   "execution_count": 37,
   "id": "29acbe69",
   "metadata": {},
   "outputs": [],
   "source": [
    "Stack_1 = ['R','G','J','B','T','V','Z']\n",
    "Stack_2 = ['J','R','V','L']\n",
    "Stack_3 = ['S','Q','F']\n",
    "Stack_4 = ['Z','H','N','L','F','V','Q','G']\n",
    "Stack_5 = ['R','Q','T','J','C','S','M','W']\n",
    "Stack_6 = ['S','W','T','C','H','F']\n",
    "Stack_7 = ['D','Z','C','V','F','N','J']\n",
    "Stack_8 = ['L','G','Z','D','W','R','F','Q']\n",
    "Stack_9 = ['J','B','W','V','P']\n",
    "Stack_full = [Stack_1,Stack_2,Stack_3,Stack_4,Stack_5,Stack_6,Stack_7,Stack_8,Stack_9,]"
   ]
  },
  {
   "cell_type": "code",
   "execution_count": 3,
   "id": "3c29f20d",
   "metadata": {},
   "outputs": [],
   "source": [
    "Input = []\n",
    "Input_file = open(\"Day 5 Input\")\n",
    "for line in Input_file:\n",
    "    if line[0] == 'm':\n",
    "        Input.append(line.strip())\n",
    "Input_new = []\n",
    "for i in Input:\n",
    "    Input_new.append(i.split())\n",
    "Input_final = []\n",
    "for i in Input_new:\n",
    "    Input_final.append(int(i[1]))\n",
    "    Input_final.append(int(i[3]))\n",
    "    Input_final.append(int(i[5]))"
   ]
  },
  {
   "cell_type": "code",
   "execution_count": 16,
   "id": "c985fe51",
   "metadata": {},
   "outputs": [
    {
     "name": "stdout",
     "output_type": "stream",
     "text": [
      "[['J', 'R', 'Z', 'D', 'V', 'Z', 'R', 'S', 'M', 'N', 'W', 'F', 'F', 'V', 'J', 'H', 'C', 'G', 'J', 'H', 'Z'], ['T', 'Q', 'T', 'S'], ['W', 'W', 'V', 'F', 'Q', 'Z', 'D', 'B', 'V', 'F', 'R', 'J', 'G', 'N', 'Q'], ['V'], ['C'], ['C'], ['R', 'S', 'J'], ['F', 'T', 'B', 'L'], ['Q', 'W', 'P', 'G', 'L', 'L']]\n"
     ]
    }
   ],
   "source": [
    "for i in np.arange(505):\n",
    "    number = Input_final[3*i]\n",
    "    origin = Stack_full[Input_final[3*i + 1] - 1]\n",
    "    destination = Stack_full[Input_final[3*i + 2] - 1]\n",
    "    \n",
    "    for n in np.arange(number):\n",
    "        destination.append(origin[-1])\n",
    "        del origin[-1]\n",
    "        \n",
    "    Stack_full[Input_final[3*i + 1] - 1] = origin\n",
    "    Stack_full[Input_final[3*i + 2] - 1] = destination\n",
    "print(Stack_full)"
   ]
  },
  {
   "cell_type": "code",
   "execution_count": 38,
   "id": "9d484534",
   "metadata": {},
   "outputs": [
    {
     "name": "stdout",
     "output_type": "stream",
     "text": [
      "[['W', 'J', 'D', 'S', 'F', 'N', 'Z', 'Q', 'V', 'G', 'T', 'P', 'T', 'C', 'C', 'H', 'W', 'Z', 'W', 'V', 'Q'], ['S', 'V', 'G', 'Z'], ['J', 'L', 'F', 'L', 'R', 'R', 'R', 'Q', 'V', 'Q', 'M', 'T', 'C', 'L', 'F'], ['J'], ['R'], ['W'], ['B', 'V', 'H'], ['J', 'F', 'B', 'G'], ['J', 'N', 'Z', 'D', 'F', 'S']]\n"
     ]
    }
   ],
   "source": [
    "for i in np.arange(505):\n",
    "    number = Input_final[3*i]\n",
    "    origin = Stack_full[Input_final[3*i + 1] - 1]\n",
    "    destination = Stack_full[Input_final[3*i + 2] - 1]\n",
    "    \n",
    "    for q in origin[-1*number:]:\n",
    "        destination.append(q)\n",
    "    del origin[-1*number:]\n",
    "    \n",
    "    Stack_full[Input_final[3*i + 1] - 1] = origin\n",
    "    Stack_full[Input_final[3*i + 2] - 1] = destination\n",
    "print(Stack_full)"
   ]
  },
  {
   "cell_type": "code",
   "execution_count": null,
   "id": "1f76938b",
   "metadata": {},
   "outputs": [],
   "source": []
  }
 ],
 "metadata": {
  "kernelspec": {
   "display_name": "Python 3 (ipykernel)",
   "language": "python",
   "name": "python3"
  },
  "language_info": {
   "codemirror_mode": {
    "name": "ipython",
    "version": 3
   },
   "file_extension": ".py",
   "mimetype": "text/x-python",
   "name": "python",
   "nbconvert_exporter": "python",
   "pygments_lexer": "ipython3",
   "version": "3.10.6"
  }
 },
 "nbformat": 4,
 "nbformat_minor": 5
}
