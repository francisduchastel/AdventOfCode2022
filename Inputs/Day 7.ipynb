{
 "cells": [
  {
   "cell_type": "code",
   "execution_count": 1,
   "id": "36d0017e",
   "metadata": {},
   "outputs": [],
   "source": [
    "import numpy as np"
   ]
  },
  {
   "cell_type": "code",
   "execution_count": 2,
   "id": "cd957bc3",
   "metadata": {},
   "outputs": [],
   "source": [
    "Input_file = open(\"Day 7 Input\")\n",
    "Input = []\n",
    "for line in Input_file:\n",
    "    Input.append(line.strip())"
   ]
  },
  {
   "cell_type": "code",
   "execution_count": 3,
   "id": "94e48014",
   "metadata": {},
   "outputs": [
    {
     "name": "stdout",
     "output_type": "stream",
     "text": [
      "1334506\n"
     ]
    }
   ],
   "source": [
    "index = -1\n",
    "directory_full = []\n",
    "for i in Input:\n",
    "    index = index + 1\n",
    "    if i[0] == '$' and i[2] == 'c' and i[5] != '.' and i[5] != '/':\n",
    "        counter = 0\n",
    "        directory = []\n",
    "        for j in Input[index:]:\n",
    "            if j[0] == '$' and j[2] != 'l' and j[5] != '.':\n",
    "                counter = counter + 1\n",
    "            if j[0] == '$' and j[2] != 'l' and j[5] == '.':\n",
    "                counter = counter - 1\n",
    "            directory.append(j)\n",
    "            if counter == 0:\n",
    "                break\n",
    "        directory_full.append(directory)\n",
    "\n",
    "\n",
    "directory_value_full = []\n",
    "for q in directory_full:\n",
    "    directory_value = []\n",
    "    directory_value.append(q[0][5:])\n",
    "    total_value = 0\n",
    "    for j in q:\n",
    "        if j[0] == '1' or j[0] == '2' or j[0] == '3' or j[0] == '4' or j[0] == '5' or j[0] == '6' or j[0] == '7' or j[0] == '8' or j[0] == '9':\n",
    "            value = j.split()\n",
    "            value = int(value[0])\n",
    "            total_value = total_value + value\n",
    "    directory_value.append(total_value)\n",
    "    directory_value_full.append(directory_value)\n",
    "\n",
    "    \n",
    "number = 0\n",
    "for i in directory_value_full:\n",
    "    if i[1] <= 100000:\n",
    "        number = number + i[1]\n",
    "print(number)"
   ]
  },
  {
   "cell_type": "code",
   "execution_count": 5,
   "id": "4c662b29",
   "metadata": {},
   "outputs": [
    {
     "name": "stdout",
     "output_type": "stream",
     "text": [
      "7421137\n"
     ]
    }
   ],
   "source": [
    "index = -1\n",
    "directory_full = []\n",
    "for i in Input:\n",
    "    index = index + 1\n",
    "    if i[0] == '$' and i[2] == 'c' and i[5] != '.':\n",
    "        counter = 0\n",
    "        directory = []\n",
    "        for j in Input[index:]:\n",
    "            if j[0] == '$' and j[2] != 'l' and j[5] != '.':\n",
    "                counter = counter + 1\n",
    "            if j[0] == '$' and j[2] != 'l' and j[5] == '.':\n",
    "                counter = counter - 1\n",
    "            directory.append(j)\n",
    "            if counter == 0:\n",
    "                break\n",
    "        directory_full.append(directory)\n",
    "\n",
    "\n",
    "directory_value_full = []\n",
    "for q in directory_full:\n",
    "    directory_value = []\n",
    "    directory_value.append(q[0][5:])\n",
    "    total_value = 0\n",
    "    for j in q:\n",
    "        if j[0] == '1' or j[0] == '2' or j[0] == '3' or j[0] == '4' or j[0] == '5' or j[0] == '6' or j[0] == '7' or j[0] == '8' or j[0] == '9':\n",
    "            value = j.split()\n",
    "            value = int(value[0])\n",
    "            total_value = total_value + value\n",
    "    directory_value.append(total_value)\n",
    "    directory_value_full.append(directory_value)\n",
    "\n",
    "unused_space = 70000000 - directory_value_full[0][1]\n",
    "min_size_to_delete = 30000000 - unused_space\n",
    "\n",
    "smallest_size_that_works = 70000000\n",
    "for i in directory_value_full:\n",
    "    if i[1] <= smallest_size_that_works:\n",
    "        if i[1] >= min_size_to_delete:\n",
    "            smallest_size_that_works = i[1]\n",
    "print(smallest_size_that_works)"
   ]
  }
 ],
 "metadata": {
  "kernelspec": {
   "display_name": "Python 3 (ipykernel)",
   "language": "python",
   "name": "python3"
  },
  "language_info": {
   "codemirror_mode": {
    "name": "ipython",
    "version": 3
   },
   "file_extension": ".py",
   "mimetype": "text/x-python",
   "name": "python",
   "nbconvert_exporter": "python",
   "pygments_lexer": "ipython3",
   "version": "3.10.6"
  }
 },
 "nbformat": 4,
 "nbformat_minor": 5
}
