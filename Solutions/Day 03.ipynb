{
 "cells": [
  {
   "cell_type": "code",
   "execution_count": 5,
   "id": "2c90c673",
   "metadata": {},
   "outputs": [],
   "source": [
    "import numpy as np"
   ]
  },
  {
   "cell_type": "code",
   "execution_count": 28,
   "id": "474559f7",
   "metadata": {},
   "outputs": [],
   "source": [
    "Input_file = open(\"Day 3 Input\")\n",
    "Input = []\n",
    "for line in Input_file:\n",
    "    Input.append(line.strip())"
   ]
  },
  {
   "cell_type": "code",
   "execution_count": 83,
   "id": "39728350",
   "metadata": {},
   "outputs": [
    {
     "name": "stdout",
     "output_type": "stream",
     "text": [
      "8243\n"
     ]
    }
   ],
   "source": [
    "value_total = 0\n",
    "for i in Input:\n",
    "    length = len(i)\n",
    "    \n",
    "    arange_1 = []\n",
    "    for j in np.arange(0, length/2):\n",
    "        arange_1.append(int(j))\n",
    "    \n",
    "    for m in arange_1:\n",
    "        \n",
    "        arange_2 = []\n",
    "        for k in np.arange(length/2, length):\n",
    "            arange_2.append(int(k))\n",
    "            \n",
    "        for n in arange_2:\n",
    "            if i[n] == i[m]:\n",
    "                extra = i[n]\n",
    "                \n",
    "    if ord(extra) > 96:\n",
    "        value = ord(extra) - 96\n",
    "    else:\n",
    "        value = ord(extra) - 38\n",
    "    value_total = value_total + value\n",
    "print(value_total)"
   ]
  },
  {
   "cell_type": "code",
   "execution_count": 108,
   "id": "440177fe",
   "metadata": {},
   "outputs": [
    {
     "name": "stdout",
     "output_type": "stream",
     "text": [
      "2631\n"
     ]
    }
   ],
   "source": [
    "value_total = 0\n",
    "\n",
    "arange_3 = []\n",
    "for j in np.arange(0, 100):\n",
    "    arange_3.append(int(j))\n",
    "    \n",
    "for i in arange_3:\n",
    "    first = Input[3*i]\n",
    "    second = Input[3*i + 1]\n",
    "    third = Input[3*i + 2]\n",
    "    \n",
    "    length_first = len(first)\n",
    "    length_second = len(second)\n",
    "    length_third = len(third)\n",
    "    \n",
    "    arange_first = []\n",
    "    for j in np.arange(0, length_first):\n",
    "        arange_first.append(int(j))\n",
    "    \n",
    "    arange_second = []\n",
    "    for j in np.arange(0, length_second):\n",
    "        arange_second.append(int(j))\n",
    "        \n",
    "    arange_third = []\n",
    "    for j in np.arange(0, length_third):\n",
    "        arange_third.append(int(j))\n",
    "        \n",
    "    same_first_second = []    \n",
    "    for i in arange_first:\n",
    "        for n in arange_second:\n",
    "            if first[i] == second[n]:\n",
    "                same_first_second.append(first[i])\n",
    "    \n",
    "    length_same_first_second = len(same_first_second)\n",
    "    \n",
    "    arange_first_second = []\n",
    "    for j in np.arange(0, length_same_first_second):\n",
    "        arange_first_second.append(int(j))\n",
    "        \n",
    "    for i in arange_first_second:\n",
    "        for n in arange_third:\n",
    "            if same_first_second[i] == third[n]:\n",
    "                badge = third[n]\n",
    "    \n",
    "    if ord(badge) > 96:\n",
    "        value = ord(badge) - 96\n",
    "    else:\n",
    "        value = ord(badge) - 38\n",
    "    value_total = value_total + value\n",
    "print(value_total)"
   ]
  }
 ],
 "metadata": {
  "kernelspec": {
   "display_name": "Python 3 (ipykernel)",
   "language": "python",
   "name": "python3"
  },
  "language_info": {
   "codemirror_mode": {
    "name": "ipython",
    "version": 3
   },
   "file_extension": ".py",
   "mimetype": "text/x-python",
   "name": "python",
   "nbconvert_exporter": "python",
   "pygments_lexer": "ipython3",
   "version": "3.10.6"
  }
 },
 "nbformat": 4,
 "nbformat_minor": 5
}
