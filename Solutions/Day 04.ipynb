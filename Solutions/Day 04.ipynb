{
 "cells": [
  {
   "cell_type": "code",
   "execution_count": 1,
   "id": "1e4457d1",
   "metadata": {},
   "outputs": [],
   "source": [
    "import numpy as np"
   ]
  },
  {
   "cell_type": "code",
   "execution_count": 34,
   "id": "139ae554",
   "metadata": {},
   "outputs": [],
   "source": [
    "Input_file = open(\"Day 4 Input\")\n",
    "Input = []\n",
    "for line in Input_file:\n",
    "    Input.append(line.strip())\n",
    "Input_New = []\n",
    "for i in Input:\n",
    "    Input_New.append(i.split(\",\"))"
   ]
  },
  {
   "cell_type": "code",
   "execution_count": 35,
   "id": "69e7a6d0",
   "metadata": {},
   "outputs": [
    {
     "name": "stdout",
     "output_type": "stream",
     "text": [
      "507\n"
     ]
    }
   ],
   "source": [
    "counter = 0\n",
    "for i in np.arange(0, 1000):\n",
    "    first = Input_New[i][0].split(\"-\")\n",
    "    second = Input_New[i][1].split(\"-\")\n",
    "    \n",
    "    first_int = [int(first[0]), int(first[1])]\n",
    "    second_int = [int(second[0]), int(second[1])]\n",
    "    \n",
    "    if first_int[0] == second_int[0] and first_int[1] == second_int[1]:\n",
    "        counter = counter + 1\n",
    "    \n",
    "    else:\n",
    "        if first_int[0] <= second_int[0] and first_int[1] >= second_int[1]:\n",
    "            counter = counter + 1\n",
    "        \n",
    "        if first_int[0] >= second_int[0] and first_int[1] <= second_int[1]:\n",
    "            counter = counter + 1\n",
    "print(counter)"
   ]
  },
  {
   "cell_type": "code",
   "execution_count": 42,
   "id": "0025dc49",
   "metadata": {},
   "outputs": [
    {
     "name": "stdout",
     "output_type": "stream",
     "text": [
      "897\n"
     ]
    }
   ],
   "source": [
    "counter = 0\n",
    "for i in np.arange(0, 1000):\n",
    "    first = Input_New[i][0].split(\"-\")\n",
    "    second = Input_New[i][1].split(\"-\")\n",
    "    \n",
    "    first_int = [int(first[0]), int(first[1])]\n",
    "    second_int = [int(second[0]), int(second[1])]\n",
    "    \n",
    "    if first_int[0] == second_int[0] or first_int[0] == second_int[1] or first_int[1] == second_int[0] or first_int[1] == second_int[1]:\n",
    "        counter = counter + 1\n",
    "    \n",
    "    else:\n",
    "        if first_int[0] > second_int[0] and first_int[0] < second_int[1]:\n",
    "            counter = counter + 1\n",
    "        else:\n",
    "            if first_int[1] > second_int[0] and first_int[1] < second_int[1]:\n",
    "                counter = counter + 1\n",
    "            else:\n",
    "                if first_int[0] < second_int[0] and first_int[1] > second_int[0]:\n",
    "                    counter = counter + 1\n",
    "                else:\n",
    "                    if first_int[0] > second_int[0] and first_int[1] < second_int[1]:\n",
    "                        counter = counter + 1\n",
    "\n",
    "print(counter)"
   ]
  },
  {
   "cell_type": "code",
   "execution_count": null,
   "id": "17840667",
   "metadata": {},
   "outputs": [],
   "source": []
  }
 ],
 "metadata": {
  "kernelspec": {
   "display_name": "Python 3 (ipykernel)",
   "language": "python",
   "name": "python3"
  },
  "language_info": {
   "codemirror_mode": {
    "name": "ipython",
    "version": 3
   },
   "file_extension": ".py",
   "mimetype": "text/x-python",
   "name": "python",
   "nbconvert_exporter": "python",
   "pygments_lexer": "ipython3",
   "version": "3.10.6"
  }
 },
 "nbformat": 4,
 "nbformat_minor": 5
}
