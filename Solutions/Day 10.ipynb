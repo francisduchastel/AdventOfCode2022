{
 "cells": [
  {
   "cell_type": "code",
   "execution_count": 55,
   "id": "72e7d51e",
   "metadata": {},
   "outputs": [],
   "source": [
    "import numpy as np"
   ]
  },
  {
   "cell_type": "code",
   "execution_count": 56,
   "id": "7716e83a",
   "metadata": {},
   "outputs": [],
   "source": [
    "Input_file = open('Day 10 Input')\n",
    "Input = []\n",
    "for line in Input_file:\n",
    "    Input.append(line.strip())"
   ]
  },
  {
   "cell_type": "code",
   "execution_count": 57,
   "id": "7f7a420f",
   "metadata": {},
   "outputs": [
    {
     "name": "stdout",
     "output_type": "stream",
     "text": [
      "12460\n"
     ]
    }
   ],
   "source": [
    "cycle_counter = 1\n",
    "cycle_boolean = 0\n",
    "X_value = 1\n",
    "Important_X = []\n",
    "\n",
    "def cycle_checker(x):\n",
    "    if x == 20 or x == 60 or x == 100 or x == 140 or x == 180 or x == 220:\n",
    "        boolean = 1\n",
    "    else:\n",
    "        boolean = 0\n",
    "    \n",
    "    return boolean\n",
    "\n",
    "for i in Input:\n",
    "    if i[0] == 'n':\n",
    "        if cycle_checker(cycle_counter) == 1:\n",
    "            Important_X.append(X_value * cycle_counter)\n",
    "        cycle_counter = cycle_counter + 1\n",
    "    if i[0] == 'a':\n",
    "        if cycle_checker(cycle_counter) == 1:\n",
    "            Important_X.append(X_value * cycle_counter)\n",
    "        cycle_counter = cycle_counter + 1\n",
    " \n",
    "        if cycle_checker(cycle_counter) == 1:\n",
    "            Important_X.append(X_value * cycle_counter)\n",
    "        X_value = X_value + int(i[5:])\n",
    "        cycle_counter = cycle_counter + 1\n",
    "            \n",
    "Sum = 0\n",
    "for i in Important_X:\n",
    "    Sum = Sum + i\n",
    "print(Sum)"
   ]
  },
  {
   "cell_type": "code",
   "execution_count": 59,
   "id": "66544935",
   "metadata": {},
   "outputs": [
    {
     "name": "stdout",
     "output_type": "stream",
     "text": [
      "[[0. 0. 0. 0. 1. 0. 0. 0. 0. 1. 0. 0. 0. 0. 1. 0. 0. 0. 1. 1. 0. 0. 0. 1. 1. 1. 0. 0. 1. 1. 0. 1. 1. 0. 1. 0. 1. 1. 1. 1.]\n",
      " [0. 1. 1. 1. 1. 1. 1. 1. 0. 1. 0. 1. 1. 1. 1. 0. 1. 1. 0. 1. 0. 1. 1. 0. 1. 0. 1. 1. 0. 1. 0. 1. 0. 1. 1. 0. 1. 1. 1. 1.]\n",
      " [0. 0. 0. 1. 1. 1. 1. 0. 1. 1. 0. 0. 0. 1. 1. 0. 1. 1. 0. 1. 0. 1. 1. 0. 1. 0. 1. 1. 0. 1. 0. 0. 1. 1. 1. 0. 1. 1. 1. 1.]\n",
      " [0. 1. 1. 1. 1. 1. 0. 1. 1. 1. 0. 1. 1. 1. 1. 0. 0. 0. 1. 1. 0. 0. 0. 1. 1. 0. 0. 0. 0. 1. 0. 1. 0. 1. 1. 0. 1. 1. 1. 1.]\n",
      " [0. 1. 1. 1. 1. 0. 1. 1. 1. 1. 0. 1. 1. 1. 1. 0. 1. 1. 1. 1. 0. 1. 0. 1. 1. 0. 1. 1. 0. 1. 0. 1. 0. 1. 1. 0. 1. 1. 1. 1.]\n",
      " [0. 0. 0. 0. 1. 0. 0. 0. 0. 1. 0. 1. 1. 1. 1. 0. 1. 1. 1. 1. 0. 1. 1. 0. 1. 0. 1. 1. 0. 1. 0. 1. 1. 0. 1. 0. 0. 0. 0. 1.]]\n"
     ]
    }
   ],
   "source": [
    "Screen = np.ones((1,240))\n",
    "cycle_counter = 0\n",
    "X_value = 1\n",
    "\n",
    "def pixel_check(x, cycle):\n",
    "    multiple = 0\n",
    "    for j in np.arange(5):\n",
    "        if cycle >= 40:\n",
    "            cycle = cycle - 40\n",
    "            multiple = multiple + 1\n",
    "    \n",
    "    if np.abs(x - cycle) < 2:\n",
    "        Screen[0][cycle + (40 * multiple)] = 0\n",
    "    return\n",
    "\n",
    "for i in Input:\n",
    "    if i[0] == 'n':\n",
    "        pixel_check(X_value, cycle_counter)\n",
    "        \n",
    "        cycle_counter = cycle_counter + 1\n",
    "        \n",
    "        \n",
    "    if i[0] == 'a':\n",
    "        pixel_check(X_value, cycle_counter)\n",
    "        cycle_counter = cycle_counter + 1\n",
    "        pixel_check(X_value, cycle_counter)\n",
    "        X_value = X_value + int(i[5:])\n",
    "        cycle_counter = cycle_counter + 1\n",
    "        \n",
    "Screen = Screen.reshape((6,40))\n",
    "np.set_printoptions(linewidth=np.inf)\n",
    "print(Screen)"
   ]
  }
 ],
 "metadata": {
  "kernelspec": {
   "display_name": "Python 3 (ipykernel)",
   "language": "python",
   "name": "python3"
  },
  "language_info": {
   "codemirror_mode": {
    "name": "ipython",
    "version": 3
   },
   "file_extension": ".py",
   "mimetype": "text/x-python",
   "name": "python",
   "nbconvert_exporter": "python",
   "pygments_lexer": "ipython3",
   "version": "3.10.6"
  }
 },
 "nbformat": 4,
 "nbformat_minor": 5
}
