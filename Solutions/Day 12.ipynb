{
 "cells": [
  {
   "cell_type": "code",
   "execution_count": 7,
   "id": "9be24d78",
   "metadata": {},
   "outputs": [],
   "source": [
    "import numpy as np\n",
    "import random\n",
    "import sys"
   ]
  },
  {
   "cell_type": "code",
   "execution_count": 20,
   "id": "9adc1f3a",
   "metadata": {},
   "outputs": [],
   "source": [
    "Input_file = open(\"Day 12 Input\")\n",
    "Input_temp = []\n",
    "for line in Input_file:\n",
    "    Input_temp.append(line.strip())\n",
    "Input = []\n",
    "for i in np.arange(41):\n",
    "    Input.append([*Input_temp[i]])\n",
    "\n",
    "#start    \n",
    "Input[20][0] = 'a'\n",
    "#end\n",
    "Input[20][36] = 'z'"
   ]
  },
  {
   "cell_type": "code",
   "execution_count": 25,
   "id": "3de26b0e",
   "metadata": {},
   "outputs": [
    {
     "name": "stdout",
     "output_type": "stream",
     "text": [
      "330.0\n"
     ]
    }
   ],
   "source": [
    "A = np.zeros((41,61))\n",
    "B = np.ones((41, 61))\n",
    "Matrix = A - B\n",
    "\n",
    "Matrix[20][0] = 0\n",
    "\n",
    "\n",
    "for q in np.arange(1000):\n",
    "    x_list = []\n",
    "    y_list = []\n",
    "    y_counter = -1\n",
    "    for i in Matrix:\n",
    "        y_counter = y_counter + 1\n",
    "        x_counter = -1\n",
    "        for j in i:\n",
    "            x_counter = x_counter + 1\n",
    "            if j == q:\n",
    "                x_list.append(x_counter)\n",
    "                y_list.append(y_counter)\n",
    "    \n",
    "    for l in np.arange(len(x_list)):\n",
    "        \n",
    "        if y_list[l] == 0:\n",
    "            pass\n",
    "        else:\n",
    "            if ord(Input[y_list[l] - 1][x_list[l]]) - ord(Input[y_list[l]][x_list[l]]) <= 1: \n",
    "                if Matrix[y_list[l] - 1][x_list[l]] == -1:\n",
    "                    Matrix[y_list[l] - 1][x_list[l]] = q + 1\n",
    "        \n",
    "        if y_list[l] == 40:\n",
    "            pass\n",
    "        else:        \n",
    "            if ord(Input[y_list[l] + 1][x_list[l]]) - ord(Input[y_list[l]][x_list[l]]) <= 1:\n",
    "                if Matrix[y_list[l] + 1][x_list[l]] == -1:\n",
    "                    Matrix[y_list[l] + 1][x_list[l]] = q + 1\n",
    "                \n",
    "        if x_list[l] == 0:\n",
    "            pass\n",
    "        else:\n",
    "            if ord(Input[y_list[l]][x_list[l] - 1]) - ord(Input[y_list[l]][x_list[l]]) <= 1: \n",
    "                if Matrix[y_list[l]][x_list[l] - 1] == -1:\n",
    "                    Matrix[y_list[l]][x_list[l] - 1] = q + 1\n",
    "        \n",
    "        if x_list[l] == 60:\n",
    "            pass\n",
    "        else:\n",
    "            if ord(Input[y_list[l]][x_list[l] + 1]) - ord(Input[y_list[l]][x_list[l]]) <= 1:\n",
    "                if Matrix[y_list[l]][x_list[l] + 1] == -1:\n",
    "                    Matrix[y_list[l]][x_list[l] + 1] = q + 1\n",
    "\n",
    "print(Matrix[20][36])"
   ]
  },
  {
   "cell_type": "code",
   "execution_count": 37,
   "id": "67e6e7fd",
   "metadata": {},
   "outputs": [
    {
     "name": "stdout",
     "output_type": "stream",
     "text": [
      "321.0\n"
     ]
    }
   ],
   "source": [
    "A = np.zeros((41,61))\n",
    "B = np.ones((41, 61))\n",
    "Matrix = A - B\n",
    "\n",
    "Matrix[20][36] = 0\n",
    "\n",
    "\n",
    "for q in np.arange(1000):\n",
    "    x_list = []\n",
    "    y_list = []\n",
    "    y_counter = -1\n",
    "    for i in Matrix:\n",
    "        y_counter = y_counter + 1\n",
    "        x_counter = -1\n",
    "        for j in i:\n",
    "            x_counter = x_counter + 1\n",
    "            if j == q:\n",
    "                x_list.append(x_counter)\n",
    "                y_list.append(y_counter)\n",
    "    \n",
    "    for l in np.arange(len(x_list)):\n",
    "        \n",
    "        if y_list[l] == 0:\n",
    "            pass\n",
    "        else:\n",
    "            if ord(Input[y_list[l] - 1][x_list[l]]) - ord(Input[y_list[l]][x_list[l]]) >= -1: \n",
    "                if Matrix[y_list[l] - 1][x_list[l]] == -1:\n",
    "                    Matrix[y_list[l] - 1][x_list[l]] = q + 1\n",
    "        \n",
    "        if y_list[l] == 40:\n",
    "            pass\n",
    "        else:        \n",
    "            if ord(Input[y_list[l] + 1][x_list[l]]) - ord(Input[y_list[l]][x_list[l]]) >= -1:\n",
    "                if Matrix[y_list[l] + 1][x_list[l]] == -1:\n",
    "                    Matrix[y_list[l] + 1][x_list[l]] = q + 1\n",
    "                \n",
    "        if x_list[l] == 0:\n",
    "            pass\n",
    "        else:\n",
    "            if ord(Input[y_list[l]][x_list[l] - 1]) - ord(Input[y_list[l]][x_list[l]]) >= -1: \n",
    "                if Matrix[y_list[l]][x_list[l] - 1] == -1:\n",
    "                    Matrix[y_list[l]][x_list[l] - 1] = q + 1\n",
    "        \n",
    "        if x_list[l] == 60:\n",
    "            pass\n",
    "        else:\n",
    "            if ord(Input[y_list[l]][x_list[l] + 1]) - ord(Input[y_list[l]][x_list[l]]) >= -1:\n",
    "                if Matrix[y_list[l]][x_list[l] + 1] == -1:\n",
    "                    Matrix[y_list[l]][x_list[l] + 1] = q + 1\n",
    "\n",
    "\n",
    "possible_starts = []\n",
    "y_count = -1\n",
    "for i in Input:\n",
    "    y_count = y_count + 1\n",
    "    x_count = -1\n",
    "    for j in i:\n",
    "        x_count = x_count + 1\n",
    "        if j == 'a':\n",
    "            possible_starts.append(Matrix[y_count][x_count])\n",
    "\n",
    "Best_start = 1000\n",
    "for i in possible_starts:\n",
    "    if i <= Best_start and i != -1:\n",
    "        Best_start = i\n",
    "print(Best_start)"
   ]
  }
 ],
 "metadata": {
  "kernelspec": {
   "display_name": "Python 3 (ipykernel)",
   "language": "python",
   "name": "python3"
  },
  "language_info": {
   "codemirror_mode": {
    "name": "ipython",
    "version": 3
   },
   "file_extension": ".py",
   "mimetype": "text/x-python",
   "name": "python",
   "nbconvert_exporter": "python",
   "pygments_lexer": "ipython3",
   "version": "3.10.6"
  }
 },
 "nbformat": 4,
 "nbformat_minor": 5
}
