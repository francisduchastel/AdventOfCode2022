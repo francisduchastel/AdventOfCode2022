{
 "cells": [
  {
   "cell_type": "code",
   "execution_count": 1,
   "id": "0393a763",
   "metadata": {},
   "outputs": [],
   "source": [
    "import numpy as np"
   ]
  },
  {
   "cell_type": "code",
   "execution_count": 2,
   "id": "333f4001",
   "metadata": {},
   "outputs": [],
   "source": [
    "Input_file = open('Day 2 Input')"
   ]
  },
  {
   "cell_type": "code",
   "execution_count": 7,
   "id": "a722b6b4",
   "metadata": {},
   "outputs": [],
   "source": [
    "Input = []\n",
    "for line in Input_file:\n",
    "    Input.append(line.strip())"
   ]
  },
  {
   "cell_type": "code",
   "execution_count": 10,
   "id": "666a7f6a",
   "metadata": {},
   "outputs": [],
   "source": [
    "Input_New = []\n",
    "for i in Input:\n",
    "    Input_New.append(i.split())"
   ]
  },
  {
   "cell_type": "code",
   "execution_count": 17,
   "id": "9e4907c4",
   "metadata": {},
   "outputs": [
    {
     "name": "stdout",
     "output_type": "stream",
     "text": [
      "13526\n"
     ]
    }
   ],
   "source": [
    "score = 0\n",
    "for i in Input_New:\n",
    "    Score_This_Round = 0\n",
    "    if i[1] == 'X':\n",
    "        Score_This_Round = Score_This_Round + 1\n",
    "        if i[0] == 'A':\n",
    "            Score_This_Round = Score_This_Round + 3\n",
    "        if i[0] == 'B':\n",
    "            Score_This_Round = Score_This_Round\n",
    "        if i[0] == 'C':\n",
    "            Score_This_Round = Score_This_Round + 6\n",
    "    if i[1] == 'Y':\n",
    "        Score_This_Round = Score_This_Round + 2\n",
    "        if i[0] == 'A':\n",
    "            Score_This_Round = Score_This_Round + 6\n",
    "        if i[0] == 'B':\n",
    "            Score_This_Round = Score_This_Round + 3\n",
    "        if i[0] == 'C':\n",
    "            Score_This_Round = Score_This_Round\n",
    "    if i[1] == 'Z':\n",
    "        Score_This_Round = Score_This_Round + 3\n",
    "        if i[0] == 'A':\n",
    "            Score_This_Round = Score_This_Round\n",
    "        if i[0] == 'B':\n",
    "            Score_This_Round = Score_This_Round + 6\n",
    "        if i[0] == 'C':\n",
    "            Score_This_Round = Score_This_Round + 3\n",
    "    score = score + Score_This_Round\n",
    "print(score)"
   ]
  },
  {
   "cell_type": "code",
   "execution_count": 18,
   "id": "ad14423a",
   "metadata": {},
   "outputs": [
    {
     "name": "stdout",
     "output_type": "stream",
     "text": [
      "14204\n"
     ]
    }
   ],
   "source": [
    "score = 0\n",
    "for i in Input_New:\n",
    "    Score_This_Round = 0\n",
    "    if i[1] == 'X':\n",
    "        Score_This_Round = Score_This_Round\n",
    "        if i[0] == 'A':\n",
    "            Score_This_Round = Score_This_Round + 3\n",
    "        if i[0] == 'B':\n",
    "            Score_This_Round = Score_This_Round + 1\n",
    "        if i[0] == 'C':\n",
    "            Score_This_Round = Score_This_Round + 2\n",
    "    if i[1] == 'Y':\n",
    "        Score_This_Round = Score_This_Round + 3\n",
    "        if i[0] == 'A':\n",
    "            Score_This_Round = Score_This_Round + 1\n",
    "        if i[0] == 'B':\n",
    "            Score_This_Round = Score_This_Round + 2\n",
    "        if i[0] == 'C':\n",
    "            Score_This_Round = Score_This_Round + 3\n",
    "    if i[1] == 'Z':\n",
    "        Score_This_Round = Score_This_Round + 6\n",
    "        if i[0] == 'A':\n",
    "            Score_This_Round = Score_This_Round + 2\n",
    "        if i[0] == 'B':\n",
    "            Score_This_Round = Score_This_Round + 3\n",
    "        if i[0] == 'C':\n",
    "            Score_This_Round = Score_This_Round + 1\n",
    "    score = score + Score_This_Round\n",
    "print(score)"
   ]
  },
  {
   "cell_type": "code",
   "execution_count": null,
   "id": "ade085ce",
   "metadata": {},
   "outputs": [],
   "source": []
  }
 ],
 "metadata": {
  "kernelspec": {
   "display_name": "Python 3 (ipykernel)",
   "language": "python",
   "name": "python3"
  },
  "language_info": {
   "codemirror_mode": {
    "name": "ipython",
    "version": 3
   },
   "file_extension": ".py",
   "mimetype": "text/x-python",
   "name": "python",
   "nbconvert_exporter": "python",
   "pygments_lexer": "ipython3",
   "version": "3.10.6"
  }
 },
 "nbformat": 4,
 "nbformat_minor": 5
}
