{
 "cells": [
  {
   "cell_type": "code",
   "execution_count": 12,
   "id": "f2da9366",
   "metadata": {},
   "outputs": [],
   "source": [
    "import numpy as np"
   ]
  },
  {
   "cell_type": "code",
   "execution_count": 8,
   "id": "40303380",
   "metadata": {},
   "outputs": [],
   "source": [
    "Input_file = open(\"Day 6 Input\")\n",
    "Input = []\n",
    "for line in Input_file:\n",
    "    Input.append(line.strip())\n",
    "    Input = Input[0]"
   ]
  },
  {
   "cell_type": "code",
   "execution_count": 32,
   "id": "9cb83b61",
   "metadata": {},
   "outputs": [
    {
     "name": "stdout",
     "output_type": "stream",
     "text": [
      "1155\n"
     ]
    }
   ],
   "source": [
    "for i in np.arange(3, 4095):\n",
    "    if Input[i] == Input[i-1] or Input[i] == Input[i-2] or Input[i] == Input[i-3] or Input[i-1] == Input[i-2] or Input[i-1] == Input[i-3] or Input[i-2] == Input[i-3]:\n",
    "        pass\n",
    "    else:\n",
    "        marker = i+1\n",
    "        break\n",
    "print(marker)"
   ]
  },
  {
   "cell_type": "code",
   "execution_count": 42,
   "id": "9a46b874",
   "metadata": {},
   "outputs": [
    {
     "name": "stdout",
     "output_type": "stream",
     "text": [
      "2789\n"
     ]
    }
   ],
   "source": [
    "any_repeats = 'false'\n",
    "for i in np.arange(14, 4095):\n",
    "    string = Input[i-14:i]\n",
    "    \n",
    "    for j in np.arange(14):\n",
    "        for k in np.arange(14):\n",
    "            if string[j] == string[k] and j != k:\n",
    "                any_repeats = 'true'\n",
    "    if any_repeats == 'false':\n",
    "        marker = i\n",
    "        break\n",
    "    else:\n",
    "        any_repeats = 'false'\n",
    "        \n",
    "print(marker)"
   ]
  }
 ],
 "metadata": {
  "kernelspec": {
   "display_name": "Python 3 (ipykernel)",
   "language": "python",
   "name": "python3"
  },
  "language_info": {
   "codemirror_mode": {
    "name": "ipython",
    "version": 3
   },
   "file_extension": ".py",
   "mimetype": "text/x-python",
   "name": "python",
   "nbconvert_exporter": "python",
   "pygments_lexer": "ipython3",
   "version": "3.10.6"
  }
 },
 "nbformat": 4,
 "nbformat_minor": 5
}
