{
 "cells": [
  {
   "cell_type": "code",
   "execution_count": 1,
   "id": "3d68de9b",
   "metadata": {},
   "outputs": [],
   "source": [
    "import numpy as np"
   ]
  },
  {
   "cell_type": "code",
   "execution_count": 30,
   "id": "4ce98d72",
   "metadata": {},
   "outputs": [],
   "source": [
    "Input_file = open(\"Day 8 Input\")\n",
    "Input = []\n",
    "for line in Input_file:\n",
    "    Input.append(line.strip())"
   ]
  },
  {
   "cell_type": "code",
   "execution_count": 22,
   "id": "daa5264b",
   "metadata": {},
   "outputs": [
    {
     "name": "stdout",
     "output_type": "stream",
     "text": [
      "1779\n"
     ]
    }
   ],
   "source": [
    "#0 means not visible, 1 means visible\n",
    "Grid_boolean = np.zeros((99,99))\n",
    "for i in np.arange(99):\n",
    "    Grid_boolean[0][i] = 1\n",
    "    Grid_boolean[i][0] = 1\n",
    "    Grid_boolean[98][i] = 1\n",
    "    Grid_boolean[i][98] = 1\n",
    "for i in np.arange(1, 98):\n",
    "    for j in np.arange(1, 98):\n",
    "        for m in np.arange(i):\n",
    "            if Input[i][j] > Input[m][j]:\n",
    "                Visible_top = 1\n",
    "            else:\n",
    "                Visible_top = 0\n",
    "                break\n",
    "        for n in np.arange(j):\n",
    "            if Input[i][j] > Input[i][n]:\n",
    "                Visible_left = 1\n",
    "            else:\n",
    "                Visible_left = 0\n",
    "                break\n",
    "        for q in np.arange(1, 99 - i):\n",
    "            if Input[i][j] > Input[i + q][j]:\n",
    "                Visible_bottom = 1\n",
    "            else:\n",
    "                Visible_bottom = 0\n",
    "                break\n",
    "        for p in np.arange(1, 99 - j):\n",
    "            if Input[i][j] > Input[i][j + p]:\n",
    "                Visible_right = 1\n",
    "            else:\n",
    "                Visible_right = 0\n",
    "                break\n",
    "        if Visible_top + Visible_bottom + Visible_right + Visible_left >= 1:\n",
    "            Grid_boolean[i][j] = 1\n",
    "Number_visible = 0\n",
    "for i in Grid_boolean:\n",
    "    for j in i:\n",
    "        if j == 1:\n",
    "            Number_visible = Number_visible + 1\n",
    "print(Number_visible)"
   ]
  },
  {
   "cell_type": "code",
   "execution_count": 29,
   "id": "911d997f",
   "metadata": {},
   "outputs": [
    {
     "name": "stdout",
     "output_type": "stream",
     "text": [
      "172224\n"
     ]
    }
   ],
   "source": [
    "Top = []\n",
    "Bottom = []\n",
    "Left = []\n",
    "Right = []\n",
    "top_score = 0\n",
    "for i in np.arange(1, 98):\n",
    "    for j in np.arange(1, 98):\n",
    "        for m in np.arange(1, i+1):\n",
    "            if Input[i][j] > Input[i - m][j]:\n",
    "                Top.append(Input[i - m][j])\n",
    "            else:\n",
    "                Top.append(Input[i - m][j])\n",
    "                break\n",
    "        for n in np.arange(1, j+1):\n",
    "            if Input[i][j] > Input[i][j - n]:\n",
    "                Left.append(Input[i][j - n])\n",
    "            else:\n",
    "                Left.append(Input[i][j - n])\n",
    "                break\n",
    "        for q in np.arange(1, 99 - i):\n",
    "            if Input[i][j] > Input[i + q][j]:\n",
    "                Bottom.append(Input[i + q][j])\n",
    "            else:\n",
    "                Bottom.append(Input[i + q][j])\n",
    "                break\n",
    "        for p in np.arange(1, 99 - j):\n",
    "            if Input[i][j] > Input[i][j + p]:\n",
    "                Right.append(Input[i][j + p])\n",
    "            else:\n",
    "                Right.append(Input[i][j + p])\n",
    "                break\n",
    "        this_score = len(Top) * len(Bottom) * len(Right) * len(Left)\n",
    "        \n",
    "        Top = []\n",
    "        Bottom = []\n",
    "        Left = []\n",
    "        Right = []\n",
    "        \n",
    "        if this_score > top_score:\n",
    "            top_score = this_score\n",
    "print(top_score)"
   ]
  }
 ],
 "metadata": {
  "kernelspec": {
   "display_name": "Python 3 (ipykernel)",
   "language": "python",
   "name": "python3"
  },
  "language_info": {
   "codemirror_mode": {
    "name": "ipython",
    "version": 3
   },
   "file_extension": ".py",
   "mimetype": "text/x-python",
   "name": "python",
   "nbconvert_exporter": "python",
   "pygments_lexer": "ipython3",
   "version": "3.10.6"
  }
 },
 "nbformat": 4,
 "nbformat_minor": 5
}
